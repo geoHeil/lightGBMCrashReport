{
 "cells": [
  {
   "cell_type": "markdown",
   "metadata": {},
   "source": [
    "# lightgbm crashing\n",
    "for these types of assignments lightGBM is crashing"
   ]
  },
  {
   "cell_type": "code",
   "execution_count": 3,
   "metadata": {
    "collapsed": false
   },
   "outputs": [],
   "source": [
    "from sklearn.model_selection import ShuffleSplit\n",
    "from sklearn.metrics import classification_report\n",
    "from sklearn.datasets import make_classification\n",
    "import pandas as pd\n",
    "import lightgbm as lgb\n",
    "\n",
    "mySeed = 45\n",
    "\n",
    "(X, y) = datasets.make_classification(n_samples=1000, n_features=100, n_informative=20, random_state=mySeed)\n",
    "\n",
    "X = pd.DataFrame(X)\n",
    "y = pd.Series(y)"
   ]
  },
  {
   "cell_type": "code",
   "execution_count": 1,
   "metadata": {
    "collapsed": true
   },
   "outputs": [],
   "source": [
    "assignments = {}\n",
    "assignments['bagging_fraction'] = 1.0\n",
    "assignments['learning_rate'] = 0.6\n",
    "assignments['max_bin'] = 200\n",
    "assignments['max_depth'] = 30\n",
    "assignments['min_child_weight'] = 200\n",
    "assignments['n_estimators'] = 6000\n",
    "assignments['num_leaves'] = 2000000\n",
    "assignments['subsample'] = 1.0\n",
    "assignments['scale_pos_weight'] = 2000\n",
    "assignments['boosting_type'] = 'gbdt'\n",
    "assignments['reg_alpha'] = 0\n",
    "assignments['reg_lambda'] = 2\n",
    "assignments['is_unbalance'] = True\n",
    "assignments['min_split_gain'] = 0\n",
    "assignments['min_child_samples'] = 10\n",
    "assignments['colsample_bytree'] = 0.8\n",
    "assignments['subsample_freq'] = 3\n",
    "assignments['subsample_for_bin'] = 50000\n",
    "\n",
    "class switch(object):\n",
    "    def __init__(self, value):\n",
    "        self.value = value\n",
    "        self.fall = False\n",
    "\n",
    "    def __iter__(self):\n",
    "        \"\"\"Return the match method once, then stop\"\"\"\n",
    "        yield self.match\n",
    "        raise StopIteration\n",
    "\n",
    "    def match(self, *args):\n",
    "        \"\"\"Indicate whether or not to enter a case suite\"\"\"\n",
    "        if self.fall or not args:\n",
    "            return True\n",
    "        elif self.value in args:  # changed for v1.5, see below\n",
    "            self.fall = True\n",
    "            return True\n",
    "        else:\n",
    "            return False\n",
    "\n",
    "\n",
    "def create_estimator_from_parameters(type_of_estimator, params, seed):\n",
    "    for case in switch(type_of_estimator):\n",
    "        if case('lightgbm'):\n",
    "            estimator = lgb.LGBMClassifier(\n",
    "                boosting_type=params['boosting_type'],\n",
    "                num_leaves=params['num_leaves'],\n",
    "                max_depth=params['max_depth'],\n",
    "                learning_rate=params['learning_rate'],\n",
    "                n_estimators=params['n_estimators'],\n",
    "                max_bin=params['max_bin'],\n",
    "                subsample_for_bin=params['subsample_for_bin'],\n",
    "                objective=\"binary\",\n",
    "                min_split_gain=params['min_split_gain'],\n",
    "                min_child_weight=params['min_child_weight'],\n",
    "                min_child_samples=params['min_child_samples'],\n",
    "                subsample=params['subsample'],\n",
    "                subsample_freq=params['subsample_freq'],\n",
    "                colsample_bytree=params['colsample_bytree'],\n",
    "                reg_alpha=params['reg_alpha'],\n",
    "                reg_lambda=params['reg_lambda'],\n",
    "                scale_pos_weight=params['scale_pos_weight'],\n",
    "                is_unbalance=params['is_unbalance'],\n",
    "                seed=seed,\n",
    "                nthread=-1,\n",
    "                silent=True\n",
    "            )\n",
    "            break\n",
    "    return estimator"
   ]
  },
  {
   "cell_type": "code",
   "execution_count": null,
   "metadata": {
    "collapsed": false
   },
   "outputs": [],
   "source": [
    "clfLgbm = create_estimator_from_parameters('lightgbm', assignments, mySeed)\n",
    "\n",
    "split = ShuffleSplit(n_splits=5, test_size=0.2, random_state=mySeed)\n",
    "results_for_model = []\n",
    "fold_counter = 0\n",
    "\n",
    "for train_index, test_index in split.split(X, y):\n",
    "    X_train = X.iloc[train_index]\n",
    "    X_test = X.iloc[test_index]\n",
    "    y_train = y.iloc[train_index]\n",
    "    y_test = y.iloc[test_index]\n",
    "    clfLgbm.fit(X_train, y_train, verbose=False)    "
   ]
  },
  {
   "cell_type": "code",
   "execution_count": null,
   "metadata": {
    "collapsed": true
   },
   "outputs": [],
   "source": []
  }
 ],
 "metadata": {
  "kernelspec": {
   "display_name": "Python [conda root]",
   "language": "python",
   "name": "conda-root-py"
  },
  "language_info": {
   "codemirror_mode": {
    "name": "ipython",
    "version": 3
   },
   "file_extension": ".py",
   "mimetype": "text/x-python",
   "name": "python",
   "nbconvert_exporter": "python",
   "pygments_lexer": "ipython3",
   "version": "3.5.2"
  }
 },
 "nbformat": 4,
 "nbformat_minor": 2
}
